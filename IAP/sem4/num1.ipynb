{
 "cells": [
  {
   "cell_type": "code",
   "execution_count": 1,
   "id": "initial_id",
   "metadata": {
    "ExecuteTime": {
     "end_time": "2025-03-04T06:56:50.035771Z",
     "start_time": "2025-03-04T06:56:50.031209Z"
    },
    "collapsed": true
   },
   "outputs": [
    {
     "name": "stdout",
     "output_type": "stream",
     "text": [
      "17\n",
      "3\n",
      "100\n",
      "1.0\n"
     ]
    }
   ],
   "source": [
    "def calc (simbols, start, *args):\n",
    "    if simbols == '+':\n",
    "        for i in args:\n",
    "            start = start + i\n",
    "        return start\n",
    "    elif simbols == '-':\n",
    "        for i in args:\n",
    "            start = start - i \n",
    "        return start \n",
    "    elif simbols == '*':\n",
    "        for i in args:\n",
    "            start = start * i\n",
    "        return start\n",
    "    elif simbols == '/':\n",
    "        for i in args:\n",
    "            start = start / i\n",
    "        return start\n",
    "    else:\n",
    "        return 0\n",
    "\n",
    "print(calc(\"+\", 10, 5, 2))\n",
    "print(calc(\"-\", 10, 5, 2))\n",
    "print(calc(\"*\", 10, 5, 2))\n",
    "print(calc(\"/\", 10, 5, 2))\n"
   ]
  },
  {
   "cell_type": "code",
   "execution_count": null,
   "id": "b2768cd22c186357",
   "metadata": {
    "ExecuteTime": {
     "end_time": "2025-03-04T09:47:59.891885Z",
     "start_time": "2025-03-04T09:47:59.888220Z"
    }
   },
   "outputs": [
    {
     "name": "stdout",
     "output_type": "stream",
     "text": [
      "5.0\n",
      "-1\n",
      "12\n",
      "1000\n"
     ]
    }
   ],
   "source": [
    "from functools import wraps\n",
    "\n",
    "def unexcept(default_value):\n",
    "    \"\"\"\n",
    "    Этот декоратор вместо исключения возвращает дефолтное значение.\n",
    "    \"\"\"\n",
    "    def decorator(fun):\n",
    "        \"\"\"kzkzkz\"\"\"\n",
    "        @wraps(fun)\n",
    "        def wrapped(*args, **kwargs):\n",
    "            \"\"\"kzkzkz\"\"\"\n",
    "            try:\n",
    "                return fun(*args, **kwargs)\n",
    "            except Exception:\n",
    "                return default_value\n",
    "        return wrapped\n",
    "    return decorator\n",
    "\n",
    "@unexcept(default_value=-1)\n",
    "def div(a, b):\n",
    "\n",
    "    return a / b\n",
    "\n",
    "@unexcept(default_value=1000)\n",
    "def plus(a, b):\n",
    "    return a + b\n",
    "\n",
    "print(div(10, 2))\n",
    "print(div(1, 0))\n",
    "\n",
    "print(plus(5, 7))\n",
    "print(plus(\"a\", 3))"
   ]
  },
  {
   "cell_type": "code",
   "execution_count": 4,
   "id": "76d914a23fc71251",
   "metadata": {
    "ExecuteTime": {
     "end_time": "2025-03-04T09:48:01.876128Z",
     "start_time": "2025-03-04T09:48:01.873010Z"
    }
   },
   "outputs": [
    {
     "name": "stdout",
     "output_type": "stream",
     "text": [
      "Help on function unexcept in module __main__:\n",
      "\n",
      "unexcept(default_value)\n",
      "    Этот декоратор вместо исключения возвращает дефолтное значение.\n",
      "\n"
     ]
    }
   ],
   "source": [
    "help(unexcept)"
   ]
  },
  {
   "cell_type": "code",
   "execution_count": 17,
   "id": "699b099f969be773",
   "metadata": {
    "ExecuteTime": {
     "end_time": "2025-03-04T10:11:39.203692Z",
     "start_time": "2025-03-04T10:11:37.195579Z"
    }
   },
   "outputs": [
    {
     "name": "stdout",
     "output_type": "stream",
     "text": [
      "Сейчас: 2025-03-04 13:11:37.196814\n",
      "Сейчас: 2025-03-04 13:11:39.202141\n"
     ]
    }
   ],
   "source": [
    "from time import sleep\n",
    "\n",
    "def time_now(msg, *, dt=None):\n",
    "    if dt is None:\n",
    "        dt = datetime.now()  # Вычисляем текущее время при каждом вызове\n",
    "    print(msg, dt)\n",
    "\n",
    "time_now(\"Сейчас:\")\n",
    "sleep(2)\n",
    "time_now(\"Сейчас:\")"
   ]
  },
  {
   "cell_type": "code",
   "execution_count": 8,
   "id": "4f48cba8cc5e1ca4",
   "metadata": {
    "ExecuteTime": {
     "end_time": "2025-03-04T09:55:14.332825Z",
     "start_time": "2025-03-04T09:55:12.324059Z"
    }
   },
   "outputs": [
    {
     "name": "stdout",
     "output_type": "stream",
     "text": [
      "Сейчас: 2025-03-04 12:55:12.325530\n",
      "Сейчас: 2025-03-04 12:55:12.325530\n"
     ]
    }
   ],
   "source": [
    "\n",
    "from datetime import datetime\n",
    "from time import sleep\n",
    "\n",
    "\n",
    "def time_now(msg, *, dt=datetime.now()):\n",
    "    print(msg, dt)\n",
    "time_now(\"Сейчас:\")\n",
    "sleep(2)\n",
    "time_now(\"Сейчас:\")"
   ]
  },
  {
   "cell_type": "code",
   "execution_count": 18,
   "id": "91ad3fc88e4f3784",
   "metadata": {
    "ExecuteTime": {
     "end_time": "2025-03-04T10:12:16.426267Z",
     "start_time": "2025-03-04T10:12:16.423075Z"
    }
   },
   "outputs": [
    {
     "name": "stdout",
     "output_type": "stream",
     "text": [
      "True\n",
      "False\n"
     ]
    }
   ],
   "source": [
    "def is_pangram_ru(s):\n",
    "    russian_alphabet = set(\"абвгдеёжзийклмнопрстуфхцчшщъыьэюя\")\n",
    "    s = s.lower()\n",
    "    return all(latter in s for latter in russian_alphabet)\n",
    "\n",
    "pangram = \"абвгдеёжзийклмнопрстуфхцчшщъыьэюя\"\n",
    "pangram_2 = \"ф\"\n",
    "print(is_pangram_ru(pangram))\n",
    "print(is_pangram_ru(pangram_2))\n"
   ]
  }
 ],
 "metadata": {
  "kernelspec": {
   "display_name": "Python 3",
   "language": "python",
   "name": "python3"
  },
  "language_info": {
   "codemirror_mode": {
    "name": "ipython",
    "version": 3
   },
   "file_extension": ".py",
   "mimetype": "text/x-python",
   "name": "python",
   "nbconvert_exporter": "python",
   "pygments_lexer": "ipython3",
   "version": "3.12.6"
  }
 },
 "nbformat": 4,
 "nbformat_minor": 5
}
