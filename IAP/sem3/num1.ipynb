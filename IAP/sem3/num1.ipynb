{
 "cells": [
  {
   "cell_type": "code",
   "execution_count": 1,
   "id": "initial_id",
   "metadata": {
    "ExecuteTime": {
     "end_time": "2025-02-25T09:04:54.828644Z",
     "start_time": "2025-02-25T09:04:54.825586Z"
    },
    "collapsed": true
   },
   "outputs": [
    {
     "name": "stdout",
     "output_type": "stream",
     "text": [
      "(1, 7)\n",
      "(2, 8)\n",
      "(3, 9)\n"
     ]
    }
   ],
   "source": [
    "def transposed_matrix(matrix):\n",
    "    transposed_matrix = zip(*matrix)\n",
    "    return transposed_matrix\n",
    "\n",
    "matrix = [[1, 2, 3],\n",
    "          [7, 8, 9]]\n",
    "\n",
    "for row in transposed_matrix(matrix):\n",
    "    print(row)"
   ]
  },
  {
   "cell_type": "code",
   "execution_count": 2,
   "id": "f3b4a01ff9b0858d",
   "metadata": {
    "ExecuteTime": {
     "end_time": "2025-02-25T08:53:50.380265Z",
     "start_time": "2025-02-25T08:53:50.377097Z"
    }
   },
   "outputs": [
    {
     "name": "stdout",
     "output_type": "stream",
     "text": [
      "Уникальные элементы: {1, 2, 3, 4, 5, 6, 7, 8, 9}\n",
      "Общие элементы: {5, 6, 7}\n"
     ]
    }
   ],
   "source": [
    "## Работа со множествами\n",
    "s1 = {1, 2, 3, 4, 5, 6, 7}\n",
    "s2 = {5, 6, 7, 8, 9}\n",
    "\n",
    "unique_nums = (s2|s1)\n",
    "\n",
    "common_elements = (s1 & s2)\n",
    "\n",
    "print(\"Уникальные элементы:\", unique_nums)\n",
    "print(\"Общие элементы:\", common_elements)\n"
   ]
  },
  {
   "cell_type": "code",
   "execution_count": 1,
   "id": "cf52b1024f0455d3",
   "metadata": {
    "ExecuteTime": {
     "end_time": "2025-02-25T08:53:19.032816Z",
     "start_time": "2025-02-25T08:53:19.028778Z"
    }
   },
   "outputs": [
    {
     "name": "stdout",
     "output_type": "stream",
     "text": [
      "Уникальные элементы: [1, 2, 3, 4, 5, 6, 7, 8, 9]\n",
      "Общие элементы: [5, 6, 7]\n"
     ]
    }
   ],
   "source": [
    "s1 = [1, 2, 3, 4, 5, 6, 7]\n",
    "s2 = [5, 6, 7, 8, 9]\n",
    "\n",
    "dict1 = {x: True for x in s1}\n",
    "dict2 = {x: True for x in s2}\n",
    "\n",
    "unique_nums = dict1.keys() | dict2.keys()\n",
    "\n",
    "common_elements = dict1.keys() & dict2.keys()\n",
    "\n",
    "print(\"Уникальные элементы:\", unique_nums)\n",
    "print(\"Общие элементы:\", common_elements)"
   ]
  },
  {
   "cell_type": "code",
   "execution_count": 3,
   "id": "9d7c4cb0a44fa140",
   "metadata": {
    "ExecuteTime": {
     "end_time": "2025-02-25T08:58:53.248628Z",
     "start_time": "2025-02-25T08:58:53.245011Z"
    }
   },
   "outputs": [
    {
     "name": "stdout",
     "output_type": "stream",
     "text": [
      "[7, 5]\n",
      "[3]\n",
      "[1]\n"
     ]
    }
   ],
   "source": [
    "from typing import List\n",
    "\n",
    "def get_top(nums: List[int], k: int) -> List[int]:\n",
    "    if k <= 0:\n",
    "        return []\n",
    "    sorted_nums = sorted(nums, reverse=True)\n",
    "    return sorted_nums[:k]\n",
    "print(get_top([1, 2, 3, 2, 5, 7, 1], 2))  # [7, 5]\n",
    "print(get_top([1, 2, 3, 3, 3, 3, 3], 1))  # [3]\n",
    "print(get_top([1, 1], 1))                  # [1]"
   ]
  },
  {
   "cell_type": "code",
   "execution_count": 2,
   "id": "cab515e02b55d685",
   "metadata": {
    "ExecuteTime": {
     "end_time": "2025-02-25T09:20:57.979619Z",
     "start_time": "2025-02-25T09:20:57.975067Z"
    }
   },
   "outputs": [
    {
     "name": "stdout",
     "output_type": "stream",
     "text": [
      "[1, 2]\n",
      "[3]\n",
      "[1]\n"
     ]
    }
   ],
   "source": [
    "from typing import List\n",
    "from collections import defaultdict\n",
    "\n",
    "def get_top(nums: List[int], k: int) -> List[int]:\n",
    "    if k == 0:\n",
    "        return []\n",
    "\n",
    "    frequency = defaultdict(int)\n",
    "    for num in nums:\n",
    "        frequency[num] += 1\n",
    "\n",
    "    sorted_items = sorted(frequency.items(), key=lambda x: x[1], reverse=True)\n",
    "\n",
    "    top = [item[0] for item in sorted_items[:k]]\n",
    "\n",
    "    return top\n",
    "\n",
    "nums1 = [1, 1,1,1,1,1,1,1,1,1,1,2 ,2 ,  2, 2, 2 , 3, 3, 3, 3, 2, 5, 7, 1]\n",
    "k1 = 2\n",
    "print(get_top(nums1, k1))\n",
    "\n",
    "nums2 = [1, 2, 3, 3, 3, 3, 3]\n",
    "k2 = 1\n",
    "print(get_top(nums2, k2))\n",
    "\n",
    "nums3 = [1, 1]\n",
    "k3 = 1\n",
    "print(get_top(nums3, k3))"
   ]
  }
 ],
 "metadata": {
  "kernelspec": {
   "display_name": "Python 3",
   "language": "python",
   "name": "python3"
  },
  "language_info": {
   "codemirror_mode": {
    "name": "ipython",
    "version": 3
   },
   "file_extension": ".py",
   "mimetype": "text/x-python",
   "name": "python",
   "nbconvert_exporter": "python",
   "pygments_lexer": "ipython3",
   "version": "3.12.6"
  }
 },
 "nbformat": 4,
 "nbformat_minor": 5
}
