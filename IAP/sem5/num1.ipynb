{
 "cells": [
  {
   "cell_type": "code",
   "id": "initial_id",
   "metadata": {
    "collapsed": true,
    "ExecuteTime": {
     "end_time": "2025-03-11T08:13:10.070957Z",
     "start_time": "2025-03-11T08:13:10.067629Z"
    }
   },
   "source": [
    "from functools import reduce\n",
    "\n",
    "def word_maker(letters: list[str]) -> str:\n",
    "    return reduce(lambda x, y: x + y, map(lambda x: x.upper(), letters))\n",
    "\n",
    "letters = ['п', 'р', 'и', 'в', 'е', 'т']\n",
    "print(word_maker(letters))"
   ],
   "outputs": [
    {
     "name": "stdout",
     "output_type": "stream",
     "text": [
      "ПРИВЕТ\n"
     ]
    }
   ],
   "execution_count": 2
  },
  {
   "metadata": {
    "ExecuteTime": {
     "end_time": "2025-03-11T08:14:51.062945Z",
     "start_time": "2025-03-11T08:14:51.059609Z"
    }
   },
   "cell_type": "code",
   "source": [
    "def word_maker(letters: list[str]) -> str:\n",
    "    return ''.join([letter.upper() for letter in letters])\n",
    "\n",
    "letters = ['п', 'р', 'и', 'в', 'е', 'т']\n",
    "print(word_maker(letters))"
   ],
   "id": "f4789fec8c5cb345",
   "outputs": [
    {
     "name": "stdout",
     "output_type": "stream",
     "text": [
      "ПРИВЕТ\n"
     ]
    }
   ],
   "execution_count": 3
  },
  {
   "metadata": {
    "ExecuteTime": {
     "end_time": "2025-03-11T08:17:28.478825Z",
     "start_time": "2025-03-11T08:17:28.475083Z"
    }
   },
   "cell_type": "code",
   "source": [
    "def filter_sized(words: list[str], n: int) -> list[str]:\n",
    "    return sorted([word for word in words if len(word) == n])\n",
    "\n",
    "words1 = ['дом', 'улица', 'гараж', 'работа', 'он', 'она']\n",
    "n1 = 3\n",
    "print(filter_sized(words1, n1))\n",
    "\n",
    "words2 = ['дом', 'улица', 'гараж', 'работа', 'он', 'она']\n",
    "n2 = 5\n",
    "print(filter_sized(words2, n2))"
   ],
   "id": "8c38cda24ddc51a0",
   "outputs": [
    {
     "name": "stdout",
     "output_type": "stream",
     "text": [
      "['дом', 'она']\n",
      "['гараж', 'улица']\n"
     ]
    }
   ],
   "execution_count": 4
  },
  {
   "metadata": {
    "ExecuteTime": {
     "end_time": "2025-03-11T08:34:01.037133Z",
     "start_time": "2025-03-11T08:34:01.032916Z"
    }
   },
   "cell_type": "code",
   "source": [
    "import datetime\n",
    "\n",
    "def dmy(date: datetime.datetime) -> tuple[int, int, int]:\n",
    "    if not isinstance(date, datetime.datetime):\n",
    "        raise TypeError(\"Аргумент должен быть типа datetime.datetime\")\n",
    "\n",
    "    d = (lambda x: x.day)(date)\n",
    "    m = (lambda x: x.month)(date)\n",
    "    y = (lambda x: x.year)(date)\n",
    "\n",
    "    return d, m, y\n",
    "\n",
    "current_date = datetime.datetime.now()\n",
    "print(dmy(current_date))\n",
    "\n",
    "# Пример с ошибкой\n",
    "try:\n",
    "    dmy(\"2023-10-05\")\n",
    "except TypeError as e:\n",
    "    print(e)"
   ],
   "id": "fa969fb44494b48f",
   "outputs": [
    {
     "name": "stdout",
     "output_type": "stream",
     "text": [
      "(11, 3, 2025)\n",
      "Аргумент должен быть типа datetime.datetime\n"
     ]
    }
   ],
   "execution_count": 11
  },
  {
   "metadata": {
    "ExecuteTime": {
     "end_time": "2025-03-11T09:51:46.130023Z",
     "start_time": "2025-03-11T09:51:46.126698Z"
    }
   },
   "cell_type": "code",
   "source": [
    "def find_intersection(str1: str, str2: str) -> str:\n",
    "    list1 = list(map(int, str1.split()))\n",
    "    list2 = list(map(int, str2.split()))\n",
    "\n",
    "    common_elements = filter(lambda x: x in list2, list1)\n",
    "\n",
    "    unique_elements = []\n",
    "    for num in common_elements:\n",
    "        if num not in unique_elements:\n",
    "            unique_elements.append(num)\n",
    "\n",
    "    return ' '.join(map(str, unique_elements))\n",
    "\n",
    "str1 = '1 2 5 7 4 8 8'\n",
    "str2 = '8 5 9 0'\n",
    "print(find_intersection(str1, str2))"
   ],
   "id": "77bfed584a5be949",
   "outputs": [
    {
     "name": "stdout",
     "output_type": "stream",
     "text": [
      "5 8\n"
     ]
    }
   ],
   "execution_count": 14
  },
  {
   "metadata": {
    "ExecuteTime": {
     "end_time": "2025-03-11T09:56:02.558800Z",
     "start_time": "2025-03-11T09:56:02.542506Z"
    }
   },
   "cell_type": "code",
   "source": [
    "def check_password(password: str, min_length: int) -> tuple[bool, list[str]]:\n",
    "    remarks = []\n",
    "\n",
    "\n",
    "    if len(password) < min_length:\n",
    "        remarks.append(f\"длина {len(password)} символов из {min_length}\")\n",
    "\n",
    "\n",
    "    if not any(char.isupper() for char in password):\n",
    "        remarks.append(\"заглавная\")\n",
    "\n",
    "\n",
    "    if not any(char.islower() for char in password):\n",
    "        remarks.append(\"прописная\")\n",
    "\n",
    "\n",
    "    if not any(char.isdigit() for char in password):\n",
    "        remarks.append(\"цифра\")\n",
    "\n",
    "\n",
    "    if not any(char in '!@#$%^&*()-+' for char in password):\n",
    "        remarks.append(\"символ\")\n",
    "\n",
    "\n",
    "    if remarks:\n",
    "        return False, remarks\n",
    "    else:\n",
    "        return True, []\n",
    "    # Пример 1\n",
    "result, remarks = check_password('123456789i', 5)\n",
    "print(result, remarks)\n",
    "\n",
    "# Пример 2\n",
    "result, remarks = check_password('', 5)\n",
    "print(result, remarks)\n",
    "\n",
    "# Пример 3\n",
    "result, remarks = check_password('Qwerty!', 9)\n",
    "print(result, remarks)\n",
    "\n",
    "# Пример 4\n",
    "result, remarks = check_password('MammaMia9*', 9)\n",
    "print(result, remarks)\n",
    "\n",
    "# Пример 5\n",
    "result, remarks = check_password('(Abracadabrissimus5)', 9)\n",
    "print(result, remarks)\n",
    "\n",
    "# Тест 1: Пароль слишком короткий, отсутствуют заглавные буквы и специальные символы\n",
    "assert check_password('123456789i', 5) == (False, ['заглавная', 'символ']), \"Тест 1 не пройден\"\n",
    "\n",
    "# Тест 2: Пустой пароль\n",
    "assert check_password('', 5) == (False, ['заглавная', 'символ', 'прописная', 'цифра', 'длина 0 символов из 5']), \"Тест 2 не пройден\"\n",
    "\n"
   ],
   "id": "31959bf25314cc25",
   "outputs": [
    {
     "name": "stdout",
     "output_type": "stream",
     "text": [
      "False ['заглавная', 'символ']\n",
      "False ['длина 0 символов из 5', 'заглавная', 'прописная', 'цифра', 'символ']\n",
      "False ['длина 7 символов из 9', 'цифра']\n",
      "True []\n",
      "True []\n"
     ]
    },
    {
     "ename": "AssertionError",
     "evalue": "Тест 2 не пройден",
     "output_type": "error",
     "traceback": [
      "\u001B[0;31m---------------------------------------------------------------------------\u001B[0m",
      "\u001B[0;31mAssertionError\u001B[0m                            Traceback (most recent call last)",
      "Cell \u001B[0;32mIn[23], line 53\u001B[0m\n\u001B[1;32m     50\u001B[0m \u001B[38;5;28;01massert\u001B[39;00m check_password(\u001B[38;5;124m'\u001B[39m\u001B[38;5;124m123456789i\u001B[39m\u001B[38;5;124m'\u001B[39m, \u001B[38;5;241m5\u001B[39m) \u001B[38;5;241m==\u001B[39m (\u001B[38;5;28;01mFalse\u001B[39;00m, [\u001B[38;5;124m'\u001B[39m\u001B[38;5;124mзаглавная\u001B[39m\u001B[38;5;124m'\u001B[39m, \u001B[38;5;124m'\u001B[39m\u001B[38;5;124mсимвол\u001B[39m\u001B[38;5;124m'\u001B[39m]), \u001B[38;5;124m\"\u001B[39m\u001B[38;5;124mТест 1 не пройден\u001B[39m\u001B[38;5;124m\"\u001B[39m\n\u001B[1;32m     52\u001B[0m \u001B[38;5;66;03m# Тест 2: Пустой пароль\u001B[39;00m\n\u001B[0;32m---> 53\u001B[0m \u001B[38;5;28;01massert\u001B[39;00m check_password(\u001B[38;5;124m'\u001B[39m\u001B[38;5;124m'\u001B[39m, \u001B[38;5;241m5\u001B[39m) \u001B[38;5;241m==\u001B[39m (\u001B[38;5;28;01mFalse\u001B[39;00m, [\u001B[38;5;124m'\u001B[39m\u001B[38;5;124mзаглавная\u001B[39m\u001B[38;5;124m'\u001B[39m, \u001B[38;5;124m'\u001B[39m\u001B[38;5;124mсимвол\u001B[39m\u001B[38;5;124m'\u001B[39m, \u001B[38;5;124m'\u001B[39m\u001B[38;5;124mпрописная\u001B[39m\u001B[38;5;124m'\u001B[39m, \u001B[38;5;124m'\u001B[39m\u001B[38;5;124mцифра\u001B[39m\u001B[38;5;124m'\u001B[39m, \u001B[38;5;124m'\u001B[39m\u001B[38;5;124mдлина 0 символов из 5\u001B[39m\u001B[38;5;124m'\u001B[39m]), \u001B[38;5;124m\"\u001B[39m\u001B[38;5;124mТест 2 не пройден\u001B[39m\u001B[38;5;124m\"\u001B[39m\n",
      "\u001B[0;31mAssertionError\u001B[0m: Тест 2 не пройден"
     ]
    }
   ],
   "execution_count": 23
  }
 ],
 "metadata": {
  "kernelspec": {
   "display_name": "Python 3",
   "language": "python",
   "name": "python3"
  },
  "language_info": {
   "codemirror_mode": {
    "name": "ipython",
    "version": 2
   },
   "file_extension": ".py",
   "mimetype": "text/x-python",
   "name": "python",
   "nbconvert_exporter": "python",
   "pygments_lexer": "ipython2",
   "version": "2.7.6"
  }
 },
 "nbformat": 4,
 "nbformat_minor": 5
}
